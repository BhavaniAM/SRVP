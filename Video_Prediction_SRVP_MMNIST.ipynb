{
  "nbformat": 4,
  "nbformat_minor": 0,
  "metadata": {
    "colab": {
      "provenance": [],
      "collapsed_sections": [],
      "mount_file_id": "1irhjpdJEVqCvIu1BHNN5FI9RiRgBh6EF",
      "authorship_tag": "ABX9TyM22kmXNt3aV23ANkHrC2cQ",
      "include_colab_link": true
    },
    "kernelspec": {
      "name": "python3",
      "display_name": "Python 3"
    },
    "language_info": {
      "name": "python"
    }
  },
  "cells": [
    {
      "cell_type": "markdown",
      "metadata": {
        "id": "view-in-github",
        "colab_type": "text"
      },
      "source": [
        "<a href=\"https://colab.research.google.com/github/BhavaniAM/SRVP/blob/master/Video_Prediction_SRVP_MMNIST.ipynb\" target=\"_parent\"><img src=\"https://colab.research.google.com/assets/colab-badge.svg\" alt=\"Open In Colab\"/></a>"
      ]
    },
    {
      "cell_type": "markdown",
      "source": [
        "Mount Google Drive\n",
        "---"
      ],
      "metadata": {
        "id": "yQASqOQ9NH8K"
      }
    },
    {
      "cell_type": "code",
      "source": [
        "from google.colab import drive\n",
        "drive.mount('/gdrive', force_remount=True)"
      ],
      "metadata": {
        "colab": {
          "base_uri": "https://localhost:8080/"
        },
        "id": "7PTBtMxQJCTd",
        "outputId": "4ce2369b-b5cd-4b3c-d61c-629d3c1ecbfa"
      },
      "execution_count": null,
      "outputs": [
        {
          "output_type": "stream",
          "name": "stdout",
          "text": [
            "Mounted at /gdrive\n"
          ]
        }
      ]
    },
    {
      "cell_type": "code",
      "source": [
        "%cd /gdrive/MyDrive/Colab/Notebooks/Video_Prediction/SRVP/MMNIST"
      ],
      "metadata": {
        "colab": {
          "base_uri": "https://localhost:8080/"
        },
        "id": "zH9tIbkCJJ4s",
        "outputId": "c484baf2-5073-455b-c29a-e6c09f38dacb"
      },
      "execution_count": null,
      "outputs": [
        {
          "output_type": "stream",
          "name": "stdout",
          "text": [
            "/gdrive/MyDrive/Colab/Notebooks/VideoPrediction/SRVP/MMNIST\n"
          ]
        }
      ]
    },
    {
      "cell_type": "markdown",
      "source": [
        "Install dependencies\n",
        "---"
      ],
      "metadata": {
        "id": "5ZJdnImANTrX"
      }
    },
    {
      "cell_type": "code",
      "source": [
        "# ! mkdir det_test_set\n",
        "! python3 -m pip install configargparse"
      ],
      "metadata": {
        "id": "6FunCnmWyAHo",
        "colab": {
          "base_uri": "https://localhost:8080/"
        },
        "outputId": "1ff6017b-5e4f-4d98-826a-01360282d6ef"
      },
      "execution_count": null,
      "outputs": [
        {
          "output_type": "stream",
          "name": "stdout",
          "text": [
            "Looking in indexes: https://pypi.org/simple, https://us-python.pkg.dev/colab-wheels/public/simple/\n",
            "Collecting configargparse\n",
            "  Downloading ConfigArgParse-1.5.3-py3-none-any.whl (20 kB)\n",
            "Installing collected packages: configargparse\n",
            "Successfully installed configargparse-1.5.3\n"
          ]
        }
      ]
    },
    {
      "cell_type": "markdown",
      "source": [
        "Create the testset\n",
        "---"
      ],
      "metadata": {
        "id": "cs9FCVRFNc39"
      }
    },
    {
      "cell_type": "markdown",
      "source": [
        "Generate the testset and run the testing code on the dataset (for total 25 frames)\n",
        "---"
      ],
      "metadata": {
        "id": "5CDjFeLgLPq3"
      }
    },
    {
      "cell_type": "code",
      "source": [
        "!python -m preprocessing.mmnist.make_test_set --data_dir datasets/work_det_mmnist --deterministic --seq_len 25"
      ],
      "metadata": {
        "id": "xz2vf92efW8o",
        "colab": {
          "base_uri": "https://localhost:8080/"
        },
        "outputId": "8ee555f9-d71a-4117-b98b-15f1fa7ab5f0"
      },
      "execution_count": null,
      "outputs": [
        {
          "output_type": "stream",
          "name": "stdout",
          "text": [
            "Downloading http://yann.lecun.com/exdb/mnist/train-images-idx3-ubyte.gz\n",
            "Downloading http://yann.lecun.com/exdb/mnist/train-images-idx3-ubyte.gz to datasets/work_det_mmnist/MNIST/raw/train-images-idx3-ubyte.gz\n",
            "9913344it [00:00, 38966777.99it/s]                 \n",
            "Extracting datasets/work_det_mmnist/MNIST/raw/train-images-idx3-ubyte.gz to datasets/work_det_mmnist/MNIST/raw\n",
            "\n",
            "Downloading http://yann.lecun.com/exdb/mnist/train-labels-idx1-ubyte.gz\n",
            "Downloading http://yann.lecun.com/exdb/mnist/train-labels-idx1-ubyte.gz to datasets/work_det_mmnist/MNIST/raw/train-labels-idx1-ubyte.gz\n",
            "29696it [00:00, 48483476.68it/s]\n",
            "Extracting datasets/work_det_mmnist/MNIST/raw/train-labels-idx1-ubyte.gz to datasets/work_det_mmnist/MNIST/raw\n",
            "\n",
            "Downloading http://yann.lecun.com/exdb/mnist/t10k-images-idx3-ubyte.gz\n",
            "Downloading http://yann.lecun.com/exdb/mnist/t10k-images-idx3-ubyte.gz to datasets/work_det_mmnist/MNIST/raw/t10k-images-idx3-ubyte.gz\n",
            "1649664it [00:00, 11014665.09it/s]               \n",
            "Extracting datasets/work_det_mmnist/MNIST/raw/t10k-images-idx3-ubyte.gz to datasets/work_det_mmnist/MNIST/raw\n",
            "\n",
            "Downloading http://yann.lecun.com/exdb/mnist/t10k-labels-idx1-ubyte.gz\n",
            "Downloading http://yann.lecun.com/exdb/mnist/t10k-labels-idx1-ubyte.gz to datasets/work_det_mmnist/MNIST/raw/t10k-labels-idx1-ubyte.gz\n",
            "5120it [00:00, 17332394.25it/s]\n",
            "Extracting datasets/work_det_mmnist/MNIST/raw/t10k-labels-idx1-ubyte.gz to datasets/work_det_mmnist/MNIST/raw\n",
            "\n",
            "100% 16/16 [00:00<00:00, 512.11it/s]\n",
            "Saving testset at datasets/work_det_mmnist/mmnist_test_2digits_64.npz\n"
          ]
        }
      ]
    },
    {
      "cell_type": "code",
      "source": [
        "! mkdir '/content/predicted'\n",
        "! mkdir '/content/target'\n",
        "! mkdir '/content/conditional'"
      ],
      "metadata": {
        "id": "sAiOJ3hBnSgC"
      },
      "execution_count": null,
      "outputs": []
    },
    {
      "cell_type": "code",
      "source": [
        "! pip install 'tensorflow>=1.15, <2'\n",
        "! pip install tensorflow-gan==1.0.0.dev0"
      ],
      "metadata": {
        "colab": {
          "base_uri": "https://localhost:8080/",
          "height": 1000
        },
        "id": "CHRE5IFma33E",
        "outputId": "5855b369-8ad2-41f1-fb89-7d11526e30b9"
      },
      "execution_count": null,
      "outputs": [
        {
          "output_type": "stream",
          "name": "stdout",
          "text": [
            "Looking in indexes: https://pypi.org/simple, https://us-python.pkg.dev/colab-wheels/public/simple/\n",
            "Collecting tensorflow<2,>=1.15\n",
            "  Downloading tensorflow-1.15.5-cp37-cp37m-manylinux2010_x86_64.whl (110.5 MB)\n",
            "\u001b[K     |████████████████████████████████| 110.5 MB 1.1 kB/s \n",
            "\u001b[?25hRequirement already satisfied: opt-einsum>=2.3.2 in /usr/local/lib/python3.7/dist-packages (from tensorflow<2,>=1.15) (3.3.0)\n",
            "Requirement already satisfied: protobuf>=3.6.1 in /usr/local/lib/python3.7/dist-packages (from tensorflow<2,>=1.15) (3.17.3)\n",
            "Collecting keras-applications>=1.0.8\n",
            "  Downloading Keras_Applications-1.0.8-py3-none-any.whl (50 kB)\n",
            "\u001b[K     |████████████████████████████████| 50 kB 6.7 MB/s \n",
            "\u001b[?25hCollecting tensorboard<1.16.0,>=1.15.0\n",
            "  Downloading tensorboard-1.15.0-py3-none-any.whl (3.8 MB)\n",
            "\u001b[K     |████████████████████████████████| 3.8 MB 58.7 MB/s \n",
            "\u001b[?25hRequirement already satisfied: keras-preprocessing>=1.0.5 in /usr/local/lib/python3.7/dist-packages (from tensorflow<2,>=1.15) (1.1.2)\n",
            "Requirement already satisfied: absl-py>=0.7.0 in /usr/local/lib/python3.7/dist-packages (from tensorflow<2,>=1.15) (1.1.0)\n",
            "Collecting tensorflow-estimator==1.15.1\n",
            "  Downloading tensorflow_estimator-1.15.1-py2.py3-none-any.whl (503 kB)\n",
            "\u001b[K     |████████████████████████████████| 503 kB 51.6 MB/s \n",
            "\u001b[?25hRequirement already satisfied: termcolor>=1.1.0 in /usr/local/lib/python3.7/dist-packages (from tensorflow<2,>=1.15) (1.1.0)\n",
            "Requirement already satisfied: wrapt>=1.11.1 in /usr/local/lib/python3.7/dist-packages (from tensorflow<2,>=1.15) (1.14.1)\n",
            "Requirement already satisfied: grpcio>=1.8.6 in /usr/local/lib/python3.7/dist-packages (from tensorflow<2,>=1.15) (1.46.3)\n",
            "Requirement already satisfied: google-pasta>=0.1.6 in /usr/local/lib/python3.7/dist-packages (from tensorflow<2,>=1.15) (0.2.0)\n",
            "Collecting numpy<1.19.0,>=1.16.0\n",
            "  Downloading numpy-1.18.5-cp37-cp37m-manylinux1_x86_64.whl (20.1 MB)\n",
            "\u001b[K     |████████████████████████████████| 20.1 MB 1.2 MB/s \n",
            "\u001b[?25hRequirement already satisfied: astor>=0.6.0 in /usr/local/lib/python3.7/dist-packages (from tensorflow<2,>=1.15) (0.8.1)\n",
            "Collecting gast==0.2.2\n",
            "  Downloading gast-0.2.2.tar.gz (10 kB)\n",
            "Collecting h5py<=2.10.0\n",
            "  Downloading h5py-2.10.0-cp37-cp37m-manylinux1_x86_64.whl (2.9 MB)\n",
            "\u001b[K     |████████████████████████████████| 2.9 MB 47.3 MB/s \n",
            "\u001b[?25hRequirement already satisfied: six>=1.10.0 in /usr/local/lib/python3.7/dist-packages (from tensorflow<2,>=1.15) (1.15.0)\n",
            "Requirement already satisfied: wheel>=0.26 in /usr/local/lib/python3.7/dist-packages (from tensorflow<2,>=1.15) (0.37.1)\n",
            "Requirement already satisfied: markdown>=2.6.8 in /usr/local/lib/python3.7/dist-packages (from tensorboard<1.16.0,>=1.15.0->tensorflow<2,>=1.15) (3.3.7)\n",
            "Requirement already satisfied: setuptools>=41.0.0 in /usr/local/lib/python3.7/dist-packages (from tensorboard<1.16.0,>=1.15.0->tensorflow<2,>=1.15) (57.4.0)\n",
            "Requirement already satisfied: werkzeug>=0.11.15 in /usr/local/lib/python3.7/dist-packages (from tensorboard<1.16.0,>=1.15.0->tensorflow<2,>=1.15) (1.0.1)\n",
            "Requirement already satisfied: importlib-metadata>=4.4 in /usr/local/lib/python3.7/dist-packages (from markdown>=2.6.8->tensorboard<1.16.0,>=1.15.0->tensorflow<2,>=1.15) (4.11.4)\n",
            "Requirement already satisfied: zipp>=0.5 in /usr/local/lib/python3.7/dist-packages (from importlib-metadata>=4.4->markdown>=2.6.8->tensorboard<1.16.0,>=1.15.0->tensorflow<2,>=1.15) (3.8.0)\n",
            "Requirement already satisfied: typing-extensions>=3.6.4 in /usr/local/lib/python3.7/dist-packages (from importlib-metadata>=4.4->markdown>=2.6.8->tensorboard<1.16.0,>=1.15.0->tensorflow<2,>=1.15) (4.1.1)\n",
            "Building wheels for collected packages: gast\n",
            "  Building wheel for gast (setup.py) ... \u001b[?25l\u001b[?25hdone\n",
            "  Created wheel for gast: filename=gast-0.2.2-py3-none-any.whl size=7554 sha256=5af383f64f759bbef095d52bb94da6acbdf831bccaa12a935ee32d3a3e55335e\n",
            "  Stored in directory: /root/.cache/pip/wheels/21/7f/02/420f32a803f7d0967b48dd823da3f558c5166991bfd204eef3\n",
            "Successfully built gast\n",
            "Installing collected packages: numpy, h5py, tensorflow-estimator, tensorboard, keras-applications, gast, tensorflow\n",
            "  Attempting uninstall: numpy\n",
            "    Found existing installation: numpy 1.21.6\n",
            "    Uninstalling numpy-1.21.6:\n",
            "      Successfully uninstalled numpy-1.21.6\n",
            "  Attempting uninstall: h5py\n",
            "    Found existing installation: h5py 3.1.0\n",
            "    Uninstalling h5py-3.1.0:\n",
            "      Successfully uninstalled h5py-3.1.0\n",
            "  Attempting uninstall: tensorflow-estimator\n",
            "    Found existing installation: tensorflow-estimator 2.8.0\n",
            "    Uninstalling tensorflow-estimator-2.8.0:\n",
            "      Successfully uninstalled tensorflow-estimator-2.8.0\n",
            "  Attempting uninstall: tensorboard\n",
            "    Found existing installation: tensorboard 2.8.0\n",
            "    Uninstalling tensorboard-2.8.0:\n",
            "      Successfully uninstalled tensorboard-2.8.0\n",
            "  Attempting uninstall: gast\n",
            "    Found existing installation: gast 0.5.3\n",
            "    Uninstalling gast-0.5.3:\n",
            "      Successfully uninstalled gast-0.5.3\n",
            "  Attempting uninstall: tensorflow\n",
            "    Found existing installation: tensorflow 2.8.2+zzzcolab20220527125636\n",
            "    Uninstalling tensorflow-2.8.2+zzzcolab20220527125636:\n",
            "      Successfully uninstalled tensorflow-2.8.2+zzzcolab20220527125636\n",
            "\u001b[31mERROR: pip's dependency resolver does not currently take into account all the packages that are installed. This behaviour is the source of the following dependency conflicts.\n",
            "xarray-einstats 0.2.2 requires numpy>=1.21, but you have numpy 1.18.5 which is incompatible.\n",
            "tensorflow-probability 0.16.0 requires gast>=0.3.2, but you have gast 0.2.2 which is incompatible.\n",
            "tables 3.7.0 requires numpy>=1.19.0, but you have numpy 1.18.5 which is incompatible.\n",
            "kapre 0.3.7 requires tensorflow>=2.0.0, but you have tensorflow 1.15.5 which is incompatible.\n",
            "jaxlib 0.3.7+cuda11.cudnn805 requires numpy>=1.19, but you have numpy 1.18.5 which is incompatible.\n",
            "jax 0.3.8 requires numpy>=1.19, but you have numpy 1.18.5 which is incompatible.\n",
            "datascience 0.10.6 requires folium==0.2.1, but you have folium 0.8.3 which is incompatible.\n",
            "albumentations 0.1.12 requires imgaug<0.2.7,>=0.2.5, but you have imgaug 0.2.9 which is incompatible.\u001b[0m\n",
            "Successfully installed gast-0.2.2 h5py-2.10.0 keras-applications-1.0.8 numpy-1.18.5 tensorboard-1.15.0 tensorflow-1.15.5 tensorflow-estimator-1.15.1\n"
          ]
        },
        {
          "output_type": "display_data",
          "data": {
            "application/vnd.colab-display-data+json": {
              "pip_warning": {
                "packages": [
                  "numpy"
                ]
              }
            }
          },
          "metadata": {}
        },
        {
          "output_type": "stream",
          "name": "stdout",
          "text": [
            "Looking in indexes: https://pypi.org/simple, https://us-python.pkg.dev/colab-wheels/public/simple/\n",
            "Collecting tensorflow-gan==1.0.0.dev0\n",
            "  Downloading tensorflow_gan-1.0.0.dev0-py2.py3-none-any.whl (317 kB)\n",
            "\u001b[K     |████████████████████████████████| 317 kB 21.6 MB/s \n",
            "\u001b[?25hInstalling collected packages: tensorflow-gan\n",
            "Successfully installed tensorflow-gan-1.0.0.dev0\n"
          ]
        }
      ]
    },
    {
      "cell_type": "code",
      "source": [
        "!python test.py --data_dir datasets/work_det_mmnist --xp_dir pretrained_models/mmnist/deterministic --lpips_dir weights --n_samples 1 --nt_gen 25 --fvd"
      ],
      "metadata": {
        "id": "ZtiLOF5pgdzC",
        "colab": {
          "base_uri": "https://localhost:8080/"
        },
        "outputId": "42c9ee80-02c9-4352-909a-ce0501d06c0e"
      },
      "execution_count": null,
      "outputs": [
        {
          "output_type": "stream",
          "name": "stdout",
          "text": [
            "WARNING:tensorflow:From /usr/local/lib/python3.7/dist-packages/tensorflow_gan/python/contrib_utils.py:305: The name tf.estimator.tpu.TPUEstimator is deprecated. Please use tf.compat.v1.estimator.tpu.TPUEstimator instead.\n",
            "\n",
            "WARNING:tensorflow:From /usr/local/lib/python3.7/dist-packages/tensorflow_gan/python/contrib_utils.py:310: The name tf.estimator.tpu.TPUEstimatorSpec is deprecated. Please use tf.compat.v1.estimator.tpu.TPUEstimatorSpec instead.\n",
            "\n",
            "Downloading: \"https://download.pytorch.org/models/alexnet-owt-7be5be79.pth\" to /root/.cache/torch/hub/checkpoints/alexnet-owt-7be5be79.pth\n",
            "100% 233M/233M [00:01<00:00, 158MB/s]\n",
            "nt_cond line 178 =  5\n",
            "nt_test (total_frames) line 180 =  25\n",
            "Loading data...\n",
            "Loading model...\n",
            "Evaluation...\n",
            "100% 1/1 [00:06<00:00,  6.41s/it]\n",
            "Computing FVD...\n",
            "WARNING:tensorflow:From /gdrive/MyDrive/Colab/Notebooks/VideoPrediction/SRVP/MMNIST/metrics/fvd/fvd.py:104: The name tf.assert_equal is deprecated. Please use tf.compat.v1.assert_equal instead.\n",
            "\n",
            "2022-06-29 12:34:40.981191: W tensorflow/core/graph/graph_constructor.cc:1502] Importing a graph with a lower producer version 26 into an existing graph with producer version 134. Shape inference will have run different parts of the graph with different producer versions.\n",
            "2022-06-29 12:34:43.113009: I tensorflow/core/platform/cpu_feature_guard.cc:142] Your CPU supports instructions that this TensorFlow binary was not compiled to use: AVX2 FMA\n",
            "2022-06-29 12:34:43.116728: I tensorflow/core/platform/profile_utils/cpu_utils.cc:94] CPU Frequency: 2200195000 Hz\n",
            "2022-06-29 12:34:43.116944: I tensorflow/compiler/xla/service/service.cc:168] XLA service 0x943f9c0 initialized for platform Host (this does not guarantee that XLA will be used). Devices:\n",
            "2022-06-29 12:34:43.116980: I tensorflow/compiler/xla/service/service.cc:176]   StreamExecutor device (0): Host, Default Version\n",
            "2022-06-29 12:34:46.281009: W tensorflow/core/framework/cpu_allocator_impl.cc:81] Allocation of 667942912 exceeds 10% of system memory.\n",
            "tcmalloc: large alloc 5510807552 bytes == 0x5de56000 @  0x7fd208e731e7 0x7fd12e660902 0x7fd13123e110 0x7fd1312a2bd1 0x7fd1312a46d8 0x7fd1312a6c83 0x7fd12a77c00c 0x7fd12a76e775 0x7fd12a82f1c1 0x7fd12a82c8b8 0x7fd2077556df 0x7fd2088376db 0x7fd208b7061f\n",
            "2022-06-29 12:35:02.176887: W tensorflow/core/framework/cpu_allocator_impl.cc:81] Allocation of 500957184 exceeds 10% of system memory.\n",
            "tcmalloc: large alloc 1503617024 bytes == 0x597e6000 @  0x7fd208e731e7 0x7fd12e660902 0x7fd13123e110 0x7fd1312a2bd1 0x7fd1312a46d8 0x7fd1312a6c83 0x7fd12a77c00c 0x7fd12a76e775 0x7fd12a82f1c1 0x7fd12a82c8b8 0x7fd2077556df 0x7fd2088376db 0x7fd208b7061f\n",
            "2022-06-29 12:35:43.457881: W tensorflow/core/graph/graph_constructor.cc:1502] Importing a graph with a lower producer version 26 into an existing graph with producer version 134. Shape inference will have run different parts of the graph with different producer versions.\n",
            "2022-06-29 12:35:48.205990: W tensorflow/core/framework/cpu_allocator_impl.cc:81] Allocation of 667942912 exceeds 10% of system memory.\n",
            "tcmalloc: large alloc 5510807552 bytes == 0x5cb9a000 @  0x7fd208e731e7 0x7fd12e660902 0x7fd13123e110 0x7fd1312a2bd1 0x7fd1312a46d8 0x7fd1312a6c83 0x7fd12a77c00c 0x7fd12a76e775 0x7fd12a82f1c1 0x7fd12a82c8b8 0x7fd2077556df 0x7fd2088376db 0x7fd208b7061f\n",
            "2022-06-29 12:36:03.573000: W tensorflow/core/framework/cpu_allocator_impl.cc:81] Allocation of 500957184 exceeds 10% of system memory.\n",
            "WARNING:tensorflow:From /usr/local/lib/python3.7/dist-packages/tensorflow_gan/python/eval/classifier_metrics.py:108: where (from tensorflow.python.ops.array_ops) is deprecated and will be removed in a future version.\n",
            "Instructions for updating:\n",
            "Use tf.where in 2.0, which has the same broadcast rule as np.where\n",
            "WARNING:tensorflow:From /usr/local/lib/python3.7/dist-packages/tensorflow_gan/python/eval/classifier_metrics.py:108: where (from tensorflow.python.ops.array_ops) is deprecated and will be removed in a future version.\n",
            "Instructions for updating:\n",
            "Use tf.where in 2.0, which has the same broadcast rule as np.where\n",
            "WARNING:tensorflow:From /gdrive/MyDrive/Colab/Notebooks/VideoPrediction/SRVP/MMNIST/metrics/fvd/score.py:89: The name tf.Session is deprecated. Please use tf.compat.v1.Session instead.\n",
            "\n",
            "WARNING:tensorflow:From /gdrive/MyDrive/Colab/Notebooks/VideoPrediction/SRVP/MMNIST/metrics/fvd/score.py:89: The name tf.Session is deprecated. Please use tf.compat.v1.Session instead.\n",
            "\n",
            "WARNING:tensorflow:From /gdrive/MyDrive/Colab/Notebooks/VideoPrediction/SRVP/MMNIST/metrics/fvd/score.py:90: The name tf.global_variables_initializer is deprecated. Please use tf.compat.v1.global_variables_initializer instead.\n",
            "\n",
            "WARNING:tensorflow:From /gdrive/MyDrive/Colab/Notebooks/VideoPrediction/SRVP/MMNIST/metrics/fvd/score.py:90: The name tf.global_variables_initializer is deprecated. Please use tf.compat.v1.global_variables_initializer instead.\n",
            "\n",
            "\n",
            "\n",
            "Results:\n",
            "psnr 21.495361 +/- 1.3350929403305054\n",
            "ssim 0.90200484 +/- 0.022619391828775405\n",
            "lpips 0.0497002 +/- 0.012708738595247269\n",
            "FVD 62.96831\n"
          ]
        }
      ]
    },
    {
      "cell_type": "markdown",
      "source": [
        "Generate metrics.csv\n",
        "---"
      ],
      "metadata": {
        "id": "RD8KAkOzKVq1"
      }
    },
    {
      "cell_type": "code",
      "source": [
        "from zipfile import ZipFile\n",
        "with ZipFile('pretrained_models/mmnist/full_results_mmnist_srvp.zip', 'r') as z:\n",
        "  z.extractall('pretrained_models/mmnist/')"
      ],
      "metadata": {
        "id": "ZBXzPmGu3Dkd"
      },
      "execution_count": null,
      "outputs": []
    },
    {
      "cell_type": "code",
      "source": [
        "!pwd"
      ],
      "metadata": {
        "colab": {
          "base_uri": "https://localhost:8080/"
        },
        "id": "lzuoR_jZ4fZM",
        "outputId": "75d27b6d-4bd9-4899-9d2b-d7e57336136e"
      },
      "execution_count": null,
      "outputs": [
        {
          "output_type": "stream",
          "name": "stdout",
          "text": [
            "/gdrive/MyDrive/Colab/Notebooks/VideoPrediction/SRVP/MMNIST\n"
          ]
        }
      ]
    },
    {
      "cell_type": "code",
      "source": [
        "import numpy as np\n",
        "full_results = np.load('pretrained_models/mmnist/full_results_mmnist_det_srvp/results.npz')"
      ],
      "metadata": {
        "id": "6SJrLGaN2PpF"
      },
      "execution_count": null,
      "outputs": []
    },
    {
      "cell_type": "code",
      "source": [
        "import pandas as pd\n",
        "\n",
        "ssim_best = full_results['ssim']\n",
        "psnr_best = full_results['psnr']\n",
        "lpips_best = full_results['lpips']"
      ],
      "metadata": {
        "id": "l4cFLT6g4qEx"
      },
      "execution_count": null,
      "outputs": []
    },
    {
      "cell_type": "code",
      "source": [
        "num_vid = [i for i in range(1,5001)]\n",
        "dict = {'num_vid': num_vid, 'ssim_best': ssim_best,'psnr_best': psnr_best,'lpips_best': lpips_best} \n",
        "df = pd.DataFrame(dict) \n",
        "df.to_csv('full_metrics_srvp.csv', index = False)"
      ],
      "metadata": {
        "id": "lTKcCL-44zKh"
      },
      "execution_count": null,
      "outputs": []
    },
    {
      "cell_type": "code",
      "source": [
        "import numpy as np\n",
        "results_best = np.load('pretrained_models/mmnist/deterministic/results.npz')\n",
        "results_worst = np.load('pretrained_models/mmnist/deterministic/results_worst.npz')"
      ],
      "metadata": {
        "id": "azzgEx4bKUU-"
      },
      "execution_count": null,
      "outputs": []
    },
    {
      "cell_type": "code",
      "source": [
        "import pandas as pd\n",
        "\n",
        "ssim_best = results_best['ssim']\n",
        "psnr_best = results_best['psnr']\n",
        "lpips_best = results_best['lpips']\n",
        "\n",
        "ssim_worst = results_worst['ssim']\n",
        "psnr_worst = results_worst['psnr']\n",
        "lpips_worst = results_worst['lpips']\n",
        "\n",
        "print(ssim_best)\n",
        "print(ssim_worst)"
      ],
      "metadata": {
        "colab": {
          "base_uri": "https://localhost:8080/"
        },
        "id": "nydhfYdDMh4d",
        "outputId": "a5930592-fdb7-4c30-a319-a0dfe0d536a3"
      },
      "execution_count": null,
      "outputs": [
        {
          "output_type": "stream",
          "name": "stdout",
          "text": [
            "[0.93404293 0.8718611  0.84540784 0.97903603 0.8085613  0.8566801\n",
            " 0.8569953  0.93589735 0.9255928  0.8572391  0.93022317 0.9215609\n",
            " 0.95586604 0.93568116 0.93319017 0.88424224]\n",
            "[0.93404293 0.8718611  0.84540784 0.97903603 0.8085613  0.8566801\n",
            " 0.8569953  0.93589735 0.9255928  0.8572391  0.93022317 0.9215609\n",
            " 0.95586604 0.93568116 0.93319017 0.88424224]\n"
          ]
        }
      ]
    },
    {
      "cell_type": "code",
      "source": [
        "# num_vid = [i for i in range(1,opt.batch_size+1)]\n",
        "num_vid = [i for i in range(1,16+1)]\n",
        "dict = {'num_vid': num_vid, 'ssim_best': ssim_best, 'ssim_worst': ssim_worst, 'psnr_best': psnr_best, 'psnr_worst': psnr_worst, 'lpips_best': lpips_best, 'lpips_worst': lpips_worst} \n",
        "df = pd.DataFrame(dict) \n",
        "df.to_csv('metrics.csv', index = False)"
      ],
      "metadata": {
        "id": "3jLcpTByfqYc"
      },
      "execution_count": null,
      "outputs": []
    },
    {
      "cell_type": "markdown",
      "source": [
        "# Best and worst frames from the full metrics"
      ],
      "metadata": {
        "id": "kg3dNFNcjjwl"
      }
    },
    {
      "cell_type": "code",
      "source": [
        "import numpy as np\n",
        "import torch\n",
        "from google.colab import files\n",
        "import matplotlib.pyplot as plt"
      ],
      "metadata": {
        "id": "1gtuzEOKHN0u"
      },
      "execution_count": null,
      "outputs": []
    },
    {
      "cell_type": "code",
      "source": [
        "# To remove a directory (can be empty or can have data)\n",
        "%rm -rf /content/ssim_best\n",
        "%rm -rf /content/ssim_worst\n",
        "%rm -rf /content/psnr_best\n",
        "%rm -rf /content/psnr_worst"
      ],
      "metadata": {
        "id": "SbP6nRZQKFY2"
      },
      "execution_count": null,
      "outputs": []
    },
    {
      "cell_type": "code",
      "source": [
        "import pandas as pd\n",
        "df = pd.read_csv('./full_metrics_srvp.csv')"
      ],
      "metadata": {
        "id": "OYUDDvctK5-j"
      },
      "execution_count": null,
      "outputs": []
    },
    {
      "cell_type": "code",
      "source": [
        "df"
      ],
      "metadata": {
        "colab": {
          "base_uri": "https://localhost:8080/",
          "height": 424
        },
        "id": "cCOdNkRmNAb2",
        "outputId": "572be879-b5be-44cd-a16f-46f206cd52a8"
      },
      "execution_count": null,
      "outputs": [
        {
          "output_type": "execute_result",
          "data": {
            "text/plain": [
              "      num_vid  ssim_best  psnr_best  lpips_best\n",
              "0           1   0.981451  28.268100    0.011920\n",
              "1           2   0.928169  22.409868    0.058840\n",
              "2           3   0.963404  25.608347    0.023195\n",
              "3           4   0.979957  27.944218    0.016162\n",
              "4           5   0.903375  21.368279    0.070052\n",
              "...       ...        ...        ...         ...\n",
              "4995     4996   0.972117  26.557438    0.010915\n",
              "4996     4997   0.969855  25.056232    0.031366\n",
              "4997     4998   0.893049  21.270290    0.055799\n",
              "4998     4999   0.954299  24.131964    0.048295\n",
              "4999     5000   0.955978  24.491980    0.034151\n",
              "\n",
              "[5000 rows x 4 columns]"
            ],
            "text/html": [
              "\n",
              "  <div id=\"df-02e5ec97-ac61-44ed-b3c6-4006c868a1c3\">\n",
              "    <div class=\"colab-df-container\">\n",
              "      <div>\n",
              "<style scoped>\n",
              "    .dataframe tbody tr th:only-of-type {\n",
              "        vertical-align: middle;\n",
              "    }\n",
              "\n",
              "    .dataframe tbody tr th {\n",
              "        vertical-align: top;\n",
              "    }\n",
              "\n",
              "    .dataframe thead th {\n",
              "        text-align: right;\n",
              "    }\n",
              "</style>\n",
              "<table border=\"1\" class=\"dataframe\">\n",
              "  <thead>\n",
              "    <tr style=\"text-align: right;\">\n",
              "      <th></th>\n",
              "      <th>num_vid</th>\n",
              "      <th>ssim_best</th>\n",
              "      <th>psnr_best</th>\n",
              "      <th>lpips_best</th>\n",
              "    </tr>\n",
              "  </thead>\n",
              "  <tbody>\n",
              "    <tr>\n",
              "      <th>0</th>\n",
              "      <td>1</td>\n",
              "      <td>0.981451</td>\n",
              "      <td>28.268100</td>\n",
              "      <td>0.011920</td>\n",
              "    </tr>\n",
              "    <tr>\n",
              "      <th>1</th>\n",
              "      <td>2</td>\n",
              "      <td>0.928169</td>\n",
              "      <td>22.409868</td>\n",
              "      <td>0.058840</td>\n",
              "    </tr>\n",
              "    <tr>\n",
              "      <th>2</th>\n",
              "      <td>3</td>\n",
              "      <td>0.963404</td>\n",
              "      <td>25.608347</td>\n",
              "      <td>0.023195</td>\n",
              "    </tr>\n",
              "    <tr>\n",
              "      <th>3</th>\n",
              "      <td>4</td>\n",
              "      <td>0.979957</td>\n",
              "      <td>27.944218</td>\n",
              "      <td>0.016162</td>\n",
              "    </tr>\n",
              "    <tr>\n",
              "      <th>4</th>\n",
              "      <td>5</td>\n",
              "      <td>0.903375</td>\n",
              "      <td>21.368279</td>\n",
              "      <td>0.070052</td>\n",
              "    </tr>\n",
              "    <tr>\n",
              "      <th>...</th>\n",
              "      <td>...</td>\n",
              "      <td>...</td>\n",
              "      <td>...</td>\n",
              "      <td>...</td>\n",
              "    </tr>\n",
              "    <tr>\n",
              "      <th>4995</th>\n",
              "      <td>4996</td>\n",
              "      <td>0.972117</td>\n",
              "      <td>26.557438</td>\n",
              "      <td>0.010915</td>\n",
              "    </tr>\n",
              "    <tr>\n",
              "      <th>4996</th>\n",
              "      <td>4997</td>\n",
              "      <td>0.969855</td>\n",
              "      <td>25.056232</td>\n",
              "      <td>0.031366</td>\n",
              "    </tr>\n",
              "    <tr>\n",
              "      <th>4997</th>\n",
              "      <td>4998</td>\n",
              "      <td>0.893049</td>\n",
              "      <td>21.270290</td>\n",
              "      <td>0.055799</td>\n",
              "    </tr>\n",
              "    <tr>\n",
              "      <th>4998</th>\n",
              "      <td>4999</td>\n",
              "      <td>0.954299</td>\n",
              "      <td>24.131964</td>\n",
              "      <td>0.048295</td>\n",
              "    </tr>\n",
              "    <tr>\n",
              "      <th>4999</th>\n",
              "      <td>5000</td>\n",
              "      <td>0.955978</td>\n",
              "      <td>24.491980</td>\n",
              "      <td>0.034151</td>\n",
              "    </tr>\n",
              "  </tbody>\n",
              "</table>\n",
              "<p>5000 rows × 4 columns</p>\n",
              "</div>\n",
              "      <button class=\"colab-df-convert\" onclick=\"convertToInteractive('df-02e5ec97-ac61-44ed-b3c6-4006c868a1c3')\"\n",
              "              title=\"Convert this dataframe to an interactive table.\"\n",
              "              style=\"display:none;\">\n",
              "        \n",
              "  <svg xmlns=\"http://www.w3.org/2000/svg\" height=\"24px\"viewBox=\"0 0 24 24\"\n",
              "       width=\"24px\">\n",
              "    <path d=\"M0 0h24v24H0V0z\" fill=\"none\"/>\n",
              "    <path d=\"M18.56 5.44l.94 2.06.94-2.06 2.06-.94-2.06-.94-.94-2.06-.94 2.06-2.06.94zm-11 1L8.5 8.5l.94-2.06 2.06-.94-2.06-.94L8.5 2.5l-.94 2.06-2.06.94zm10 10l.94 2.06.94-2.06 2.06-.94-2.06-.94-.94-2.06-.94 2.06-2.06.94z\"/><path d=\"M17.41 7.96l-1.37-1.37c-.4-.4-.92-.59-1.43-.59-.52 0-1.04.2-1.43.59L10.3 9.45l-7.72 7.72c-.78.78-.78 2.05 0 2.83L4 21.41c.39.39.9.59 1.41.59.51 0 1.02-.2 1.41-.59l7.78-7.78 2.81-2.81c.8-.78.8-2.07 0-2.86zM5.41 20L4 18.59l7.72-7.72 1.47 1.35L5.41 20z\"/>\n",
              "  </svg>\n",
              "      </button>\n",
              "      \n",
              "  <style>\n",
              "    .colab-df-container {\n",
              "      display:flex;\n",
              "      flex-wrap:wrap;\n",
              "      gap: 12px;\n",
              "    }\n",
              "\n",
              "    .colab-df-convert {\n",
              "      background-color: #E8F0FE;\n",
              "      border: none;\n",
              "      border-radius: 50%;\n",
              "      cursor: pointer;\n",
              "      display: none;\n",
              "      fill: #1967D2;\n",
              "      height: 32px;\n",
              "      padding: 0 0 0 0;\n",
              "      width: 32px;\n",
              "    }\n",
              "\n",
              "    .colab-df-convert:hover {\n",
              "      background-color: #E2EBFA;\n",
              "      box-shadow: 0px 1px 2px rgba(60, 64, 67, 0.3), 0px 1px 3px 1px rgba(60, 64, 67, 0.15);\n",
              "      fill: #174EA6;\n",
              "    }\n",
              "\n",
              "    [theme=dark] .colab-df-convert {\n",
              "      background-color: #3B4455;\n",
              "      fill: #D2E3FC;\n",
              "    }\n",
              "\n",
              "    [theme=dark] .colab-df-convert:hover {\n",
              "      background-color: #434B5C;\n",
              "      box-shadow: 0px 1px 3px 1px rgba(0, 0, 0, 0.15);\n",
              "      filter: drop-shadow(0px 1px 2px rgba(0, 0, 0, 0.3));\n",
              "      fill: #FFFFFF;\n",
              "    }\n",
              "  </style>\n",
              "\n",
              "      <script>\n",
              "        const buttonEl =\n",
              "          document.querySelector('#df-02e5ec97-ac61-44ed-b3c6-4006c868a1c3 button.colab-df-convert');\n",
              "        buttonEl.style.display =\n",
              "          google.colab.kernel.accessAllowed ? 'block' : 'none';\n",
              "\n",
              "        async function convertToInteractive(key) {\n",
              "          const element = document.querySelector('#df-02e5ec97-ac61-44ed-b3c6-4006c868a1c3');\n",
              "          const dataTable =\n",
              "            await google.colab.kernel.invokeFunction('convertToInteractive',\n",
              "                                                     [key], {});\n",
              "          if (!dataTable) return;\n",
              "\n",
              "          const docLinkHtml = 'Like what you see? Visit the ' +\n",
              "            '<a target=\"_blank\" href=https://colab.research.google.com/notebooks/data_table.ipynb>data table notebook</a>'\n",
              "            + ' to learn more about interactive tables.';\n",
              "          element.innerHTML = '';\n",
              "          dataTable['output_type'] = 'display_data';\n",
              "          await google.colab.output.renderOutput(dataTable, element);\n",
              "          const docLink = document.createElement('div');\n",
              "          docLink.innerHTML = docLinkHtml;\n",
              "          element.appendChild(docLink);\n",
              "        }\n",
              "      </script>\n",
              "    </div>\n",
              "  </div>\n",
              "  "
            ]
          },
          "metadata": {},
          "execution_count": 66
        }
      ]
    },
    {
      "cell_type": "code",
      "source": [
        "df.sort_values('ssim_best',inplace = True)\n",
        "df"
      ],
      "metadata": {
        "colab": {
          "base_uri": "https://localhost:8080/",
          "height": 424
        },
        "id": "RpTPWxHdLs4f",
        "outputId": "ff4c8ed5-7638-418a-9671-f497cd94226a"
      },
      "execution_count": null,
      "outputs": [
        {
          "output_type": "execute_result",
          "data": {
            "text/plain": [
              "      num_vid  ssim_best  psnr_best  lpips_best\n",
              "931       932   0.637157  12.716866    0.184999\n",
              "3173     3174   0.699888  13.601788    0.096040\n",
              "3373     3374   0.711808  15.930035    0.235957\n",
              "1239     1240   0.717641  15.389223    0.161445\n",
              "1815     1816   0.742096  16.546064    0.124158\n",
              "...       ...        ...        ...         ...\n",
              "401       402   0.989375  31.127708    0.012440\n",
              "123       124   0.989597  29.636803    0.007844\n",
              "3283     3284   0.989645  31.765985    0.007665\n",
              "4618     4619   0.990070  31.651264    0.015941\n",
              "3349     3350   0.990585  30.320198    0.007541\n",
              "\n",
              "[5000 rows x 4 columns]"
            ],
            "text/html": [
              "\n",
              "  <div id=\"df-bce5b241-1da5-4322-9038-e63b8d8712d2\">\n",
              "    <div class=\"colab-df-container\">\n",
              "      <div>\n",
              "<style scoped>\n",
              "    .dataframe tbody tr th:only-of-type {\n",
              "        vertical-align: middle;\n",
              "    }\n",
              "\n",
              "    .dataframe tbody tr th {\n",
              "        vertical-align: top;\n",
              "    }\n",
              "\n",
              "    .dataframe thead th {\n",
              "        text-align: right;\n",
              "    }\n",
              "</style>\n",
              "<table border=\"1\" class=\"dataframe\">\n",
              "  <thead>\n",
              "    <tr style=\"text-align: right;\">\n",
              "      <th></th>\n",
              "      <th>num_vid</th>\n",
              "      <th>ssim_best</th>\n",
              "      <th>psnr_best</th>\n",
              "      <th>lpips_best</th>\n",
              "    </tr>\n",
              "  </thead>\n",
              "  <tbody>\n",
              "    <tr>\n",
              "      <th>931</th>\n",
              "      <td>932</td>\n",
              "      <td>0.637157</td>\n",
              "      <td>12.716866</td>\n",
              "      <td>0.184999</td>\n",
              "    </tr>\n",
              "    <tr>\n",
              "      <th>3173</th>\n",
              "      <td>3174</td>\n",
              "      <td>0.699888</td>\n",
              "      <td>13.601788</td>\n",
              "      <td>0.096040</td>\n",
              "    </tr>\n",
              "    <tr>\n",
              "      <th>3373</th>\n",
              "      <td>3374</td>\n",
              "      <td>0.711808</td>\n",
              "      <td>15.930035</td>\n",
              "      <td>0.235957</td>\n",
              "    </tr>\n",
              "    <tr>\n",
              "      <th>1239</th>\n",
              "      <td>1240</td>\n",
              "      <td>0.717641</td>\n",
              "      <td>15.389223</td>\n",
              "      <td>0.161445</td>\n",
              "    </tr>\n",
              "    <tr>\n",
              "      <th>1815</th>\n",
              "      <td>1816</td>\n",
              "      <td>0.742096</td>\n",
              "      <td>16.546064</td>\n",
              "      <td>0.124158</td>\n",
              "    </tr>\n",
              "    <tr>\n",
              "      <th>...</th>\n",
              "      <td>...</td>\n",
              "      <td>...</td>\n",
              "      <td>...</td>\n",
              "      <td>...</td>\n",
              "    </tr>\n",
              "    <tr>\n",
              "      <th>401</th>\n",
              "      <td>402</td>\n",
              "      <td>0.989375</td>\n",
              "      <td>31.127708</td>\n",
              "      <td>0.012440</td>\n",
              "    </tr>\n",
              "    <tr>\n",
              "      <th>123</th>\n",
              "      <td>124</td>\n",
              "      <td>0.989597</td>\n",
              "      <td>29.636803</td>\n",
              "      <td>0.007844</td>\n",
              "    </tr>\n",
              "    <tr>\n",
              "      <th>3283</th>\n",
              "      <td>3284</td>\n",
              "      <td>0.989645</td>\n",
              "      <td>31.765985</td>\n",
              "      <td>0.007665</td>\n",
              "    </tr>\n",
              "    <tr>\n",
              "      <th>4618</th>\n",
              "      <td>4619</td>\n",
              "      <td>0.990070</td>\n",
              "      <td>31.651264</td>\n",
              "      <td>0.015941</td>\n",
              "    </tr>\n",
              "    <tr>\n",
              "      <th>3349</th>\n",
              "      <td>3350</td>\n",
              "      <td>0.990585</td>\n",
              "      <td>30.320198</td>\n",
              "      <td>0.007541</td>\n",
              "    </tr>\n",
              "  </tbody>\n",
              "</table>\n",
              "<p>5000 rows × 4 columns</p>\n",
              "</div>\n",
              "      <button class=\"colab-df-convert\" onclick=\"convertToInteractive('df-bce5b241-1da5-4322-9038-e63b8d8712d2')\"\n",
              "              title=\"Convert this dataframe to an interactive table.\"\n",
              "              style=\"display:none;\">\n",
              "        \n",
              "  <svg xmlns=\"http://www.w3.org/2000/svg\" height=\"24px\"viewBox=\"0 0 24 24\"\n",
              "       width=\"24px\">\n",
              "    <path d=\"M0 0h24v24H0V0z\" fill=\"none\"/>\n",
              "    <path d=\"M18.56 5.44l.94 2.06.94-2.06 2.06-.94-2.06-.94-.94-2.06-.94 2.06-2.06.94zm-11 1L8.5 8.5l.94-2.06 2.06-.94-2.06-.94L8.5 2.5l-.94 2.06-2.06.94zm10 10l.94 2.06.94-2.06 2.06-.94-2.06-.94-.94-2.06-.94 2.06-2.06.94z\"/><path d=\"M17.41 7.96l-1.37-1.37c-.4-.4-.92-.59-1.43-.59-.52 0-1.04.2-1.43.59L10.3 9.45l-7.72 7.72c-.78.78-.78 2.05 0 2.83L4 21.41c.39.39.9.59 1.41.59.51 0 1.02-.2 1.41-.59l7.78-7.78 2.81-2.81c.8-.78.8-2.07 0-2.86zM5.41 20L4 18.59l7.72-7.72 1.47 1.35L5.41 20z\"/>\n",
              "  </svg>\n",
              "      </button>\n",
              "      \n",
              "  <style>\n",
              "    .colab-df-container {\n",
              "      display:flex;\n",
              "      flex-wrap:wrap;\n",
              "      gap: 12px;\n",
              "    }\n",
              "\n",
              "    .colab-df-convert {\n",
              "      background-color: #E8F0FE;\n",
              "      border: none;\n",
              "      border-radius: 50%;\n",
              "      cursor: pointer;\n",
              "      display: none;\n",
              "      fill: #1967D2;\n",
              "      height: 32px;\n",
              "      padding: 0 0 0 0;\n",
              "      width: 32px;\n",
              "    }\n",
              "\n",
              "    .colab-df-convert:hover {\n",
              "      background-color: #E2EBFA;\n",
              "      box-shadow: 0px 1px 2px rgba(60, 64, 67, 0.3), 0px 1px 3px 1px rgba(60, 64, 67, 0.15);\n",
              "      fill: #174EA6;\n",
              "    }\n",
              "\n",
              "    [theme=dark] .colab-df-convert {\n",
              "      background-color: #3B4455;\n",
              "      fill: #D2E3FC;\n",
              "    }\n",
              "\n",
              "    [theme=dark] .colab-df-convert:hover {\n",
              "      background-color: #434B5C;\n",
              "      box-shadow: 0px 1px 3px 1px rgba(0, 0, 0, 0.15);\n",
              "      filter: drop-shadow(0px 1px 2px rgba(0, 0, 0, 0.3));\n",
              "      fill: #FFFFFF;\n",
              "    }\n",
              "  </style>\n",
              "\n",
              "      <script>\n",
              "        const buttonEl =\n",
              "          document.querySelector('#df-bce5b241-1da5-4322-9038-e63b8d8712d2 button.colab-df-convert');\n",
              "        buttonEl.style.display =\n",
              "          google.colab.kernel.accessAllowed ? 'block' : 'none';\n",
              "\n",
              "        async function convertToInteractive(key) {\n",
              "          const element = document.querySelector('#df-bce5b241-1da5-4322-9038-e63b8d8712d2');\n",
              "          const dataTable =\n",
              "            await google.colab.kernel.invokeFunction('convertToInteractive',\n",
              "                                                     [key], {});\n",
              "          if (!dataTable) return;\n",
              "\n",
              "          const docLinkHtml = 'Like what you see? Visit the ' +\n",
              "            '<a target=\"_blank\" href=https://colab.research.google.com/notebooks/data_table.ipynb>data table notebook</a>'\n",
              "            + ' to learn more about interactive tables.';\n",
              "          element.innerHTML = '';\n",
              "          dataTable['output_type'] = 'display_data';\n",
              "          await google.colab.output.renderOutput(dataTable, element);\n",
              "          const docLink = document.createElement('div');\n",
              "          docLink.innerHTML = docLinkHtml;\n",
              "          element.appendChild(docLink);\n",
              "        }\n",
              "      </script>\n",
              "    </div>\n",
              "  </div>\n",
              "  "
            ]
          },
          "metadata": {},
          "execution_count": 75
        }
      ]
    },
    {
      "cell_type": "code",
      "source": [
        "df.sort_values('psnr_best',inplace = True)\n",
        "df"
      ],
      "metadata": {
        "colab": {
          "base_uri": "https://localhost:8080/",
          "height": 424
        },
        "id": "xQY-TGc7dFun",
        "outputId": "60d81f49-6026-4f23-9f39-e0d333aa17f7"
      },
      "execution_count": null,
      "outputs": [
        {
          "output_type": "execute_result",
          "data": {
            "text/plain": [
              "      num_vid  ssim_best  psnr_best  lpips_best\n",
              "931       932   0.637157  12.716866    0.184999\n",
              "3173     3174   0.699888  13.601788    0.096040\n",
              "310       311   0.743041  14.960924    0.148059\n",
              "1239     1240   0.717641  15.389223    0.161445\n",
              "909       910   0.763544  15.470829    0.111363\n",
              "...       ...        ...        ...         ...\n",
              "401       402   0.989375  31.127708    0.012440\n",
              "4717     4718   0.987603  31.200440    0.014395\n",
              "594       595   0.987877  31.298973    0.012177\n",
              "4618     4619   0.990070  31.651264    0.015941\n",
              "3283     3284   0.989645  31.765985    0.007665\n",
              "\n",
              "[5000 rows x 4 columns]"
            ],
            "text/html": [
              "\n",
              "  <div id=\"df-0fac7c9d-4062-41dd-b435-cb97b631194d\">\n",
              "    <div class=\"colab-df-container\">\n",
              "      <div>\n",
              "<style scoped>\n",
              "    .dataframe tbody tr th:only-of-type {\n",
              "        vertical-align: middle;\n",
              "    }\n",
              "\n",
              "    .dataframe tbody tr th {\n",
              "        vertical-align: top;\n",
              "    }\n",
              "\n",
              "    .dataframe thead th {\n",
              "        text-align: right;\n",
              "    }\n",
              "</style>\n",
              "<table border=\"1\" class=\"dataframe\">\n",
              "  <thead>\n",
              "    <tr style=\"text-align: right;\">\n",
              "      <th></th>\n",
              "      <th>num_vid</th>\n",
              "      <th>ssim_best</th>\n",
              "      <th>psnr_best</th>\n",
              "      <th>lpips_best</th>\n",
              "    </tr>\n",
              "  </thead>\n",
              "  <tbody>\n",
              "    <tr>\n",
              "      <th>931</th>\n",
              "      <td>932</td>\n",
              "      <td>0.637157</td>\n",
              "      <td>12.716866</td>\n",
              "      <td>0.184999</td>\n",
              "    </tr>\n",
              "    <tr>\n",
              "      <th>3173</th>\n",
              "      <td>3174</td>\n",
              "      <td>0.699888</td>\n",
              "      <td>13.601788</td>\n",
              "      <td>0.096040</td>\n",
              "    </tr>\n",
              "    <tr>\n",
              "      <th>310</th>\n",
              "      <td>311</td>\n",
              "      <td>0.743041</td>\n",
              "      <td>14.960924</td>\n",
              "      <td>0.148059</td>\n",
              "    </tr>\n",
              "    <tr>\n",
              "      <th>1239</th>\n",
              "      <td>1240</td>\n",
              "      <td>0.717641</td>\n",
              "      <td>15.389223</td>\n",
              "      <td>0.161445</td>\n",
              "    </tr>\n",
              "    <tr>\n",
              "      <th>909</th>\n",
              "      <td>910</td>\n",
              "      <td>0.763544</td>\n",
              "      <td>15.470829</td>\n",
              "      <td>0.111363</td>\n",
              "    </tr>\n",
              "    <tr>\n",
              "      <th>...</th>\n",
              "      <td>...</td>\n",
              "      <td>...</td>\n",
              "      <td>...</td>\n",
              "      <td>...</td>\n",
              "    </tr>\n",
              "    <tr>\n",
              "      <th>401</th>\n",
              "      <td>402</td>\n",
              "      <td>0.989375</td>\n",
              "      <td>31.127708</td>\n",
              "      <td>0.012440</td>\n",
              "    </tr>\n",
              "    <tr>\n",
              "      <th>4717</th>\n",
              "      <td>4718</td>\n",
              "      <td>0.987603</td>\n",
              "      <td>31.200440</td>\n",
              "      <td>0.014395</td>\n",
              "    </tr>\n",
              "    <tr>\n",
              "      <th>594</th>\n",
              "      <td>595</td>\n",
              "      <td>0.987877</td>\n",
              "      <td>31.298973</td>\n",
              "      <td>0.012177</td>\n",
              "    </tr>\n",
              "    <tr>\n",
              "      <th>4618</th>\n",
              "      <td>4619</td>\n",
              "      <td>0.990070</td>\n",
              "      <td>31.651264</td>\n",
              "      <td>0.015941</td>\n",
              "    </tr>\n",
              "    <tr>\n",
              "      <th>3283</th>\n",
              "      <td>3284</td>\n",
              "      <td>0.989645</td>\n",
              "      <td>31.765985</td>\n",
              "      <td>0.007665</td>\n",
              "    </tr>\n",
              "  </tbody>\n",
              "</table>\n",
              "<p>5000 rows × 4 columns</p>\n",
              "</div>\n",
              "      <button class=\"colab-df-convert\" onclick=\"convertToInteractive('df-0fac7c9d-4062-41dd-b435-cb97b631194d')\"\n",
              "              title=\"Convert this dataframe to an interactive table.\"\n",
              "              style=\"display:none;\">\n",
              "        \n",
              "  <svg xmlns=\"http://www.w3.org/2000/svg\" height=\"24px\"viewBox=\"0 0 24 24\"\n",
              "       width=\"24px\">\n",
              "    <path d=\"M0 0h24v24H0V0z\" fill=\"none\"/>\n",
              "    <path d=\"M18.56 5.44l.94 2.06.94-2.06 2.06-.94-2.06-.94-.94-2.06-.94 2.06-2.06.94zm-11 1L8.5 8.5l.94-2.06 2.06-.94-2.06-.94L8.5 2.5l-.94 2.06-2.06.94zm10 10l.94 2.06.94-2.06 2.06-.94-2.06-.94-.94-2.06-.94 2.06-2.06.94z\"/><path d=\"M17.41 7.96l-1.37-1.37c-.4-.4-.92-.59-1.43-.59-.52 0-1.04.2-1.43.59L10.3 9.45l-7.72 7.72c-.78.78-.78 2.05 0 2.83L4 21.41c.39.39.9.59 1.41.59.51 0 1.02-.2 1.41-.59l7.78-7.78 2.81-2.81c.8-.78.8-2.07 0-2.86zM5.41 20L4 18.59l7.72-7.72 1.47 1.35L5.41 20z\"/>\n",
              "  </svg>\n",
              "      </button>\n",
              "      \n",
              "  <style>\n",
              "    .colab-df-container {\n",
              "      display:flex;\n",
              "      flex-wrap:wrap;\n",
              "      gap: 12px;\n",
              "    }\n",
              "\n",
              "    .colab-df-convert {\n",
              "      background-color: #E8F0FE;\n",
              "      border: none;\n",
              "      border-radius: 50%;\n",
              "      cursor: pointer;\n",
              "      display: none;\n",
              "      fill: #1967D2;\n",
              "      height: 32px;\n",
              "      padding: 0 0 0 0;\n",
              "      width: 32px;\n",
              "    }\n",
              "\n",
              "    .colab-df-convert:hover {\n",
              "      background-color: #E2EBFA;\n",
              "      box-shadow: 0px 1px 2px rgba(60, 64, 67, 0.3), 0px 1px 3px 1px rgba(60, 64, 67, 0.15);\n",
              "      fill: #174EA6;\n",
              "    }\n",
              "\n",
              "    [theme=dark] .colab-df-convert {\n",
              "      background-color: #3B4455;\n",
              "      fill: #D2E3FC;\n",
              "    }\n",
              "\n",
              "    [theme=dark] .colab-df-convert:hover {\n",
              "      background-color: #434B5C;\n",
              "      box-shadow: 0px 1px 3px 1px rgba(0, 0, 0, 0.15);\n",
              "      filter: drop-shadow(0px 1px 2px rgba(0, 0, 0, 0.3));\n",
              "      fill: #FFFFFF;\n",
              "    }\n",
              "  </style>\n",
              "\n",
              "      <script>\n",
              "        const buttonEl =\n",
              "          document.querySelector('#df-0fac7c9d-4062-41dd-b435-cb97b631194d button.colab-df-convert');\n",
              "        buttonEl.style.display =\n",
              "          google.colab.kernel.accessAllowed ? 'block' : 'none';\n",
              "\n",
              "        async function convertToInteractive(key) {\n",
              "          const element = document.querySelector('#df-0fac7c9d-4062-41dd-b435-cb97b631194d');\n",
              "          const dataTable =\n",
              "            await google.colab.kernel.invokeFunction('convertToInteractive',\n",
              "                                                     [key], {});\n",
              "          if (!dataTable) return;\n",
              "\n",
              "          const docLinkHtml = 'Like what you see? Visit the ' +\n",
              "            '<a target=\"_blank\" href=https://colab.research.google.com/notebooks/data_table.ipynb>data table notebook</a>'\n",
              "            + ' to learn more about interactive tables.';\n",
              "          element.innerHTML = '';\n",
              "          dataTable['output_type'] = 'display_data';\n",
              "          await google.colab.output.renderOutput(dataTable, element);\n",
              "          const docLink = document.createElement('div');\n",
              "          docLink.innerHTML = docLinkHtml;\n",
              "          element.appendChild(docLink);\n",
              "        }\n",
              "      </script>\n",
              "    </div>\n",
              "  </div>\n",
              "  "
            ]
          },
          "metadata": {},
          "execution_count": 68
        }
      ]
    },
    {
      "cell_type": "code",
      "source": [
        "df.sort_values('lpips_best',inplace = True)\n",
        "df"
      ],
      "metadata": {
        "colab": {
          "base_uri": "https://localhost:8080/",
          "height": 424
        },
        "id": "eW7mxaNhddFn",
        "outputId": "4641e5b3-04e7-40a8-c927-a112dff9f463"
      },
      "execution_count": null,
      "outputs": [
        {
          "output_type": "execute_result",
          "data": {
            "text/plain": [
              "      num_vid  ssim_best  psnr_best  lpips_best\n",
              "4932     4933   0.988959  30.022892    0.005228\n",
              "4246     4247   0.982476  27.645227    0.005413\n",
              "4371     4372   0.982145  27.381702    0.007112\n",
              "2926     2927   0.982266  27.684483    0.007368\n",
              "2816     2817   0.984798  28.749820    0.007419\n",
              "...       ...        ...        ...         ...\n",
              "931       932   0.637157  12.716866    0.184999\n",
              "4084     4085   0.779402  18.398190    0.187316\n",
              "168       169   0.847337  18.647545    0.187370\n",
              "257       258   0.774736  16.810200    0.207712\n",
              "3373     3374   0.711808  15.930035    0.235957\n",
              "\n",
              "[5000 rows x 4 columns]"
            ],
            "text/html": [
              "\n",
              "  <div id=\"df-1fbb3b31-515b-4ff5-b2d3-475658daf238\">\n",
              "    <div class=\"colab-df-container\">\n",
              "      <div>\n",
              "<style scoped>\n",
              "    .dataframe tbody tr th:only-of-type {\n",
              "        vertical-align: middle;\n",
              "    }\n",
              "\n",
              "    .dataframe tbody tr th {\n",
              "        vertical-align: top;\n",
              "    }\n",
              "\n",
              "    .dataframe thead th {\n",
              "        text-align: right;\n",
              "    }\n",
              "</style>\n",
              "<table border=\"1\" class=\"dataframe\">\n",
              "  <thead>\n",
              "    <tr style=\"text-align: right;\">\n",
              "      <th></th>\n",
              "      <th>num_vid</th>\n",
              "      <th>ssim_best</th>\n",
              "      <th>psnr_best</th>\n",
              "      <th>lpips_best</th>\n",
              "    </tr>\n",
              "  </thead>\n",
              "  <tbody>\n",
              "    <tr>\n",
              "      <th>4932</th>\n",
              "      <td>4933</td>\n",
              "      <td>0.988959</td>\n",
              "      <td>30.022892</td>\n",
              "      <td>0.005228</td>\n",
              "    </tr>\n",
              "    <tr>\n",
              "      <th>4246</th>\n",
              "      <td>4247</td>\n",
              "      <td>0.982476</td>\n",
              "      <td>27.645227</td>\n",
              "      <td>0.005413</td>\n",
              "    </tr>\n",
              "    <tr>\n",
              "      <th>4371</th>\n",
              "      <td>4372</td>\n",
              "      <td>0.982145</td>\n",
              "      <td>27.381702</td>\n",
              "      <td>0.007112</td>\n",
              "    </tr>\n",
              "    <tr>\n",
              "      <th>2926</th>\n",
              "      <td>2927</td>\n",
              "      <td>0.982266</td>\n",
              "      <td>27.684483</td>\n",
              "      <td>0.007368</td>\n",
              "    </tr>\n",
              "    <tr>\n",
              "      <th>2816</th>\n",
              "      <td>2817</td>\n",
              "      <td>0.984798</td>\n",
              "      <td>28.749820</td>\n",
              "      <td>0.007419</td>\n",
              "    </tr>\n",
              "    <tr>\n",
              "      <th>...</th>\n",
              "      <td>...</td>\n",
              "      <td>...</td>\n",
              "      <td>...</td>\n",
              "      <td>...</td>\n",
              "    </tr>\n",
              "    <tr>\n",
              "      <th>931</th>\n",
              "      <td>932</td>\n",
              "      <td>0.637157</td>\n",
              "      <td>12.716866</td>\n",
              "      <td>0.184999</td>\n",
              "    </tr>\n",
              "    <tr>\n",
              "      <th>4084</th>\n",
              "      <td>4085</td>\n",
              "      <td>0.779402</td>\n",
              "      <td>18.398190</td>\n",
              "      <td>0.187316</td>\n",
              "    </tr>\n",
              "    <tr>\n",
              "      <th>168</th>\n",
              "      <td>169</td>\n",
              "      <td>0.847337</td>\n",
              "      <td>18.647545</td>\n",
              "      <td>0.187370</td>\n",
              "    </tr>\n",
              "    <tr>\n",
              "      <th>257</th>\n",
              "      <td>258</td>\n",
              "      <td>0.774736</td>\n",
              "      <td>16.810200</td>\n",
              "      <td>0.207712</td>\n",
              "    </tr>\n",
              "    <tr>\n",
              "      <th>3373</th>\n",
              "      <td>3374</td>\n",
              "      <td>0.711808</td>\n",
              "      <td>15.930035</td>\n",
              "      <td>0.235957</td>\n",
              "    </tr>\n",
              "  </tbody>\n",
              "</table>\n",
              "<p>5000 rows × 4 columns</p>\n",
              "</div>\n",
              "      <button class=\"colab-df-convert\" onclick=\"convertToInteractive('df-1fbb3b31-515b-4ff5-b2d3-475658daf238')\"\n",
              "              title=\"Convert this dataframe to an interactive table.\"\n",
              "              style=\"display:none;\">\n",
              "        \n",
              "  <svg xmlns=\"http://www.w3.org/2000/svg\" height=\"24px\"viewBox=\"0 0 24 24\"\n",
              "       width=\"24px\">\n",
              "    <path d=\"M0 0h24v24H0V0z\" fill=\"none\"/>\n",
              "    <path d=\"M18.56 5.44l.94 2.06.94-2.06 2.06-.94-2.06-.94-.94-2.06-.94 2.06-2.06.94zm-11 1L8.5 8.5l.94-2.06 2.06-.94-2.06-.94L8.5 2.5l-.94 2.06-2.06.94zm10 10l.94 2.06.94-2.06 2.06-.94-2.06-.94-.94-2.06-.94 2.06-2.06.94z\"/><path d=\"M17.41 7.96l-1.37-1.37c-.4-.4-.92-.59-1.43-.59-.52 0-1.04.2-1.43.59L10.3 9.45l-7.72 7.72c-.78.78-.78 2.05 0 2.83L4 21.41c.39.39.9.59 1.41.59.51 0 1.02-.2 1.41-.59l7.78-7.78 2.81-2.81c.8-.78.8-2.07 0-2.86zM5.41 20L4 18.59l7.72-7.72 1.47 1.35L5.41 20z\"/>\n",
              "  </svg>\n",
              "      </button>\n",
              "      \n",
              "  <style>\n",
              "    .colab-df-container {\n",
              "      display:flex;\n",
              "      flex-wrap:wrap;\n",
              "      gap: 12px;\n",
              "    }\n",
              "\n",
              "    .colab-df-convert {\n",
              "      background-color: #E8F0FE;\n",
              "      border: none;\n",
              "      border-radius: 50%;\n",
              "      cursor: pointer;\n",
              "      display: none;\n",
              "      fill: #1967D2;\n",
              "      height: 32px;\n",
              "      padding: 0 0 0 0;\n",
              "      width: 32px;\n",
              "    }\n",
              "\n",
              "    .colab-df-convert:hover {\n",
              "      background-color: #E2EBFA;\n",
              "      box-shadow: 0px 1px 2px rgba(60, 64, 67, 0.3), 0px 1px 3px 1px rgba(60, 64, 67, 0.15);\n",
              "      fill: #174EA6;\n",
              "    }\n",
              "\n",
              "    [theme=dark] .colab-df-convert {\n",
              "      background-color: #3B4455;\n",
              "      fill: #D2E3FC;\n",
              "    }\n",
              "\n",
              "    [theme=dark] .colab-df-convert:hover {\n",
              "      background-color: #434B5C;\n",
              "      box-shadow: 0px 1px 3px 1px rgba(0, 0, 0, 0.15);\n",
              "      filter: drop-shadow(0px 1px 2px rgba(0, 0, 0, 0.3));\n",
              "      fill: #FFFFFF;\n",
              "    }\n",
              "  </style>\n",
              "\n",
              "      <script>\n",
              "        const buttonEl =\n",
              "          document.querySelector('#df-1fbb3b31-515b-4ff5-b2d3-475658daf238 button.colab-df-convert');\n",
              "        buttonEl.style.display =\n",
              "          google.colab.kernel.accessAllowed ? 'block' : 'none';\n",
              "\n",
              "        async function convertToInteractive(key) {\n",
              "          const element = document.querySelector('#df-1fbb3b31-515b-4ff5-b2d3-475658daf238');\n",
              "          const dataTable =\n",
              "            await google.colab.kernel.invokeFunction('convertToInteractive',\n",
              "                                                     [key], {});\n",
              "          if (!dataTable) return;\n",
              "\n",
              "          const docLinkHtml = 'Like what you see? Visit the ' +\n",
              "            '<a target=\"_blank\" href=https://colab.research.google.com/notebooks/data_table.ipynb>data table notebook</a>'\n",
              "            + ' to learn more about interactive tables.';\n",
              "          element.innerHTML = '';\n",
              "          dataTable['output_type'] = 'display_data';\n",
              "          await google.colab.output.renderOutput(dataTable, element);\n",
              "          const docLink = document.createElement('div');\n",
              "          docLink.innerHTML = docLinkHtml;\n",
              "          element.appendChild(docLink);\n",
              "        }\n",
              "      </script>\n",
              "    </div>\n",
              "  </div>\n",
              "  "
            ]
          },
          "metadata": {},
          "execution_count": 69
        }
      ]
    },
    {
      "cell_type": "code",
      "source": [
        "full_results = np.load('pretrained_models/mmnist/full_results_mmnist_det_srvp/ssim_best.npz')\n",
        "print(full_results['samples'].shape)"
      ],
      "metadata": {
        "colab": {
          "base_uri": "https://localhost:8080/"
        },
        "id": "J6jFlwgbi0Zi",
        "outputId": "8693aa0e-447e-494f-ff95-6d4b2e80dba3"
      },
      "execution_count": null,
      "outputs": [
        {
          "output_type": "stream",
          "name": "stdout",
          "text": [
            "(5000, 20, 64, 64, 1)\n"
          ]
        }
      ]
    },
    {
      "cell_type": "code",
      "source": [
        "!mkdir '/content/ssim_best'\n",
        "full_results = np.load('pretrained_models/mmnist/full_results_mmnist_det_srvp/ssim_best.npz')\n",
        "new_video = full_results['samples'].reshape(5000, 20, 1, 64, 64)\n",
        "num_frames = 20\n",
        "batch = 5000\n",
        "new_save_number = 1\n",
        "for i in range(batch):\n",
        "  if(i == 4618 or i == 3349):\n",
        "    for j in range(num_frames):\n",
        "      plt.imsave('/content/ssim_best/x_ssim_best_' + str(i) + \"_\" + str(new_save_number) + '.png', new_video[i][j].reshape(64,64), cmap='gray')\n",
        "      new_save_number = new_save_number + 1"
      ],
      "metadata": {
        "id": "aX9J7Ru7U2BV"
      },
      "execution_count": null,
      "outputs": []
    },
    {
      "cell_type": "code",
      "source": [
        "!mkdir /content/ssim_worst\n",
        "full_results = np.load('pretrained_models/mmnist/full_results_mmnist_det_srvp/ssim_worst.npz')\n",
        "new_video = full_results['samples'].reshape(5000, 20, 1, 64, 64)\n",
        "num_frames = 20\n",
        "batch = 5000\n",
        "new_save_number = 1\n",
        "for i in range(batch):\n",
        "  if(i == 931 or i == 3173):\n",
        "    for j in range(num_frames):\n",
        "      plt.imsave('/content/ssim_worst/x_ssim_worst_' + str(i) + \"_\" + str(new_save_number) + '.png', new_video[i][j].reshape(64,64), cmap='gray')\n",
        "      new_save_number = new_save_number + 1"
      ],
      "metadata": {
        "id": "JQkOTZebV31c"
      },
      "execution_count": null,
      "outputs": []
    },
    {
      "cell_type": "code",
      "source": [
        "%rm -rf /content/psnr_best\n",
        "!mkdir '/content/psnr_best'\n",
        "full_results = np.load('pretrained_models/mmnist/full_results_mmnist_det_srvp/psnr_best.npz')\n",
        "new_video = full_results['samples'].reshape(5000, 20, 1, 64, 64)\n",
        "num_frames = 20\n",
        "batch = 5000\n",
        "new_save_number = 1\n",
        "for i in range(batch):\n",
        "  if(i == 4618 or i == 3283):\n",
        "    for j in range(num_frames):\n",
        "      plt.imsave('/content/psnr_best/x_psnr_best_' + str(i) + \"_\" + str(new_save_number) + '.png', new_video[i][j].reshape(64,64), cmap='gray')\n",
        "      new_save_number = new_save_number + 1"
      ],
      "metadata": {
        "id": "fVelGSgucleI"
      },
      "execution_count": null,
      "outputs": []
    },
    {
      "cell_type": "code",
      "source": [
        "!mkdir /content/psnr_worst\n",
        "full_results = np.load('pretrained_models/mmnist/full_results_mmnist_det_srvp/psnr_worst.npz')\n",
        "new_video = full_results['samples'].reshape(5000, 20, 1, 64, 64)\n",
        "num_frames = 20\n",
        "batch = 5000\n",
        "new_save_number = 1\n",
        "for i in range(batch):\n",
        "  if(i == 931 or i == 3173):\n",
        "    for j in range(num_frames):\n",
        "      plt.imsave('/content/psnr_worst/x_psnr_worst' + str(i) + \"_\" + str(new_save_number) + '.png', new_video[i][j].reshape(64,64), cmap='gray')\n",
        "      new_save_number = new_save_number + 1"
      ],
      "metadata": {
        "id": "PtlCGW9feYXZ"
      },
      "execution_count": null,
      "outputs": []
    },
    {
      "cell_type": "code",
      "source": [
        "%rm -rf /content/lpips_best\n",
        "!mkdir '/content/lpips_best'\n",
        "full_results = np.load('pretrained_models/mmnist/full_results_mmnist_det_srvp/lpips_best.npz')\n",
        "new_video = full_results['samples'].reshape(5000, 20, 1, 64, 64)\n",
        "num_frames = 20\n",
        "batch = 5000\n",
        "new_save_number = 1\n",
        "for i in range(batch):\n",
        "  if(i == 4932 or i == 4246):\n",
        "    for j in range(num_frames):\n",
        "      plt.imsave('/content/lpips_best/x_lpips_best_' + str(i) + \"_\" + str(new_save_number) + '.png', new_video[i][j].reshape(64,64), cmap='gray')\n",
        "      new_save_number = new_save_number + 1"
      ],
      "metadata": {
        "id": "Gq55evnhfkUB"
      },
      "execution_count": null,
      "outputs": []
    },
    {
      "cell_type": "code",
      "source": [
        "%rm -rf /content/lpips_worst\n",
        "!mkdir /content/lpips_worst\n",
        "full_results = np.load('pretrained_models/mmnist/full_results_mmnist_det_srvp/lpips_worst.npz')\n",
        "new_video = full_results['samples'].reshape(5000, 20, 1, 64, 64)\n",
        "num_frames = 20\n",
        "batch = 5000\n",
        "new_save_number = 1\n",
        "for i in range(batch):\n",
        "  if(i == 257 or i == 3373):\n",
        "    for j in range(num_frames):\n",
        "      plt.imsave('/content/lpips_worst/x_lpips_worst' + str(bhav) + \"_\" + str(new_save_number) + '.png', new_video[i][j].reshape(64,64), cmap='gray')\n",
        "      new_save_number = new_save_number + 1"
      ],
      "metadata": {
        "id": "muvP7pCVfmbr"
      },
      "execution_count": null,
      "outputs": []
    }
  ]
}